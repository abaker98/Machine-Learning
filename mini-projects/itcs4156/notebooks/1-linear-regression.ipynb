{
 "cells": [
  {
   "cell_type": "markdown",
   "metadata": {},
   "source": [
    "# ITCS 4156 - Programming Assignment 1-  Linear Regression\n"
   ]
  },
  {
   "cell_type": "markdown",
   "metadata": {},
   "source": [
    "<font color=\"blue\"> NAME: type your name here </font>"
   ]
  },
  {
   "cell_type": "markdown",
   "metadata": {},
   "source": [
    "# Instructions\n",
    "\n",
    "In this programming assignment you will be training **four** kinds of models to predict the house prices for Boston homes. The four models you'll be using are:\n",
    "\n",
    "1. Linear regression with **one variable** using **ordinary least squared** method.\n",
    "2. Linear regression with **multiple variables** using **least mean squares** method.\n",
    "3. Polynomial regression with **one variable** using **ordinary least squares**.\n",
    "4. Polynomial regression with **multiple variables** and **regularization using ordinary least squares** method.\n",
    "\n",
    "This mini-projects will work similarly to the labs where the are TODOs you must complete. Be on the lookout for **TODO** tags - they guide you towards what needs to be done. However, unlike the labs, most of the coding will now be left to you and there will be less direct instructions. The goal of this mini-project is for you to practice what your learned in the labs on your own! There are two types of TODOs:\n",
    "\n",
    "1. **TODO**: This is a TODO that will be manually graded by the TA.\n",
    "2. **AutoLab TODO**: This is a TODO that will be automatically graded using Autolab.\n",
    "\n",
    "You will need to do the following throughout this mini project:\n",
    "1. You will load the housing dataset using our code. \n",
    "\n",
    "2. You will complete the guided explanation of the dataset. This exploration and visualization should be accompanied by explanations. The goal is to gain a understanding of your data and what preprocessing steps will be needed. \n",
    "    1. Explanations should not only explain what you are observing in your visualizations and results but should also explain why you are seeing something and the potential implications of what you are seeing.\n",
    "    \n",
    "3. Next, you will implement each of the four modules. You will write you code in the scripts found in the `itcs4156/assigments/regression` directory. You will do all your training and validation of the modules from the notebook. Further you will provide visualization of your results with breif descriptions of what you are observing.\n",
    "\n",
    "4. Lastly, you will run the evaluation code. This is a local test you can use to assess how well your algorithm might perform before submitting to Autolab (it essentially performs data validation for each model for you again). This will require you fill in the `Hyperparameter` class in the `itcs4156/assigments/regression/train.py` script for setting hyperparameters. Once you have set the hyperparameters you can run the evaluation script as these hyperparameters will be used to train a model that will be assesd both locally and on Autolab. Your goal here is to fine-tune your models, if needed, so that you have a good selection of hyperparameters to use when your model is re-trained on Autolab!\n",
    "\n",
    "5. If you are passing all the test checks you can submit your code to Autolab. To do so zip the `regression/` directory inside `itcs4156/assigments/` directory and then submit it to Autolab. Once submited, you must wait for Autolab to grade your code. Your code might perform worse or as good as the local evaluations! Refer to the `README.md` at the root of the repository or the `gitlab-intructions.pdf` on Canvas to review the instructions for submitting your code. Finally, you'll need to submit this notebook to Canvas as well. \n",
    "\n",
    "<hr>"
   ]
  },
  {
   "cell_type": "markdown",
   "metadata": {},
   "source": [
    "# Grading \n",
    "\n",
    "The final grading will be done on **TEST** dataset that you have not seen before when you submit this assignment on **Autolab**. 80 points will come from whether or not you pass the MSE checks on Autolab (meaning you receive below a given MSE score for each task). The other 20 points will come from the multiple in notebook TODOs which center around  analyising results and data visualization/exploration.\n",
    "\n",
    "**YOU WILL ONLY GET <u>7</u> submissions to Autolab for this lab. <u>Only your final submission will be graded</u>**. Further, when you submit to auotlab you will only have **180 seconds for <u>ALL</u> your algorithms to be trained and tested**.\n",
    "\n",
    "Points | TODO Type | Description\n",
    "--|----|----:\n",
    "20 | In notebook TODOs | Visualize and anlyze results \n",
    "20 | Autolab TODO 1 | OrdinaryLeastSquares with $MSE < 60$\n",
    "20 | Autolab TODO 2 | LeastMeanSqaures with $MSE < 90$\n",
    "20 | Autolab TODO 3 | PolynomialRegression with $MSE < 30$\n",
    "20 | Autolab TODO 4 | PolynomialRegressionREgularized with $MSE < 30$\n",
    "\n",
    "The rank will be computed based on your average **test MSE** for all 4 models/tasks. Your ranking will be visible to you (and anonymous to others) in leaderboard on Autolab as you make submissions.  The lower your average **test MSE** is the higher on the leader boards you'll be!\n",
    "\n",
    "<hr>"
   ]
  },
  {
   "cell_type": "markdown",
   "metadata": {},
   "source": [
    "# Submission\n",
    "\n",
    "To submit to Auotlab, zip the regression folder and submit it to Autolab. To submit to Canvas, submit this notebook to corresponding Canvas assignment submission page.\n",
    "\n",
    "\n",
    "```\n",
    "| - itcs4156\n",
    "    | - assignments\n",
    "        | - regression   <----------- Zip this folder and submit on AutoLab\n",
    "            | - train.py\n",
    "            | - LeastMeanSquares.py\n",
    "            | - LeastSquares.py\n",
    "            | - PolynomialSimple.py\n",
    "            | - PolynomailMulti.py\n",
    "            | - evaluate.py\n",
    "            | - __init__.py\n",
    "    | - notebooks\n",
    "        | - 1 - LinearRegression.ipynb <----- Upload this file on Canvas\n",
    "```\n",
    "<hr>"
   ]
  },
  {
   "cell_type": "markdown",
   "metadata": {},
   "source": [
    "# Loading Packages\n",
    "\n",
    "Run the below code to ensure that whenever you make edits in your code files, your changes will be reflected in this notebook. Meaning, the below code automatically reimports all the modules you import throughout the notebook in case changes were made to them. Since we will be editing code in our `itcs4156` module this comes in handy so we don't have to keep manually reimporting by doing `import itcs4156`! \n",
    "\n",
    "If you run this cell twice, it will throw a warning `The autoreload extension is already loaded.` which you can ignore.\n",
    "\n",
    "Feel free to add any additional imports below or throughout the notebook!"
   ]
  },
  {
   "cell_type": "code",
   "execution_count": 1,
   "metadata": {
    "scrolled": true
   },
   "outputs": [],
   "source": [
    "from typing import Tuple, List, Union\n",
    "\n",
    "import numpy as np\n",
    "import pandas as pd\n",
    "\n",
    "%load_ext autoreload\n",
    "%autoreload 2"
   ]
  },
  {
   "cell_type": "markdown",
   "metadata": {},
   "source": [
    "# Data Lading: Boston House Price Prediction\n",
    "\n",
    "![](https://assets.prevu.com/blogs/images/first-time-buyer-boston-real-estate/03d0c13cdf6721a022afd91e343493b5?ixlib=rb-4.0.3&w=670&lossless=true&auto=format%20compress&fit=fill&fill=solid&s=cb885d7fc811865d8d2219c47c87eb01)\n",
    "\n",
    "The dataset you'll be using for this project is the Boston Housing dataset which contains various different features about houses in Boston. This is a classic machine learning dataset from 1978 and is one of the first datasets most people use when first learning machine learning. There are 506 samples and 13 feature variables in this dataset. The objective is to predict the value of the house, given by the 'MEDV' column, using the provided features.\n",
    "\n",
    "The dataset consists of 3 splits:\n",
    "\n",
    "1. **Train**: Throughout this assignment you will be training your model using this data.\n",
    "2. **Validation**: You will then use this set to tune your model and evaluate its performance.\n",
    "3. **Test**: This split simulates real life data which we often don't have access to until the model is deployed. We have kept this split hidden from you and we will use it to judge the performance of your model on Autolab.\n",
    "\n",
    "We will download the training and validation splits shortly. The test split will remain hidden from and Autolab will use it compute your final grade. "
   ]
  },
  {
   "cell_type": "markdown",
   "metadata": {},
   "source": [
    "## Downloading the data\n",
    "\n",
    "First, let's download the training and validation dataset to your machine. To do so, we'll need the `HousingDataset` class from our module which is located at `itcs4156.datasets.HousingDataset` or in the `itcs4156/datasets/HousingDatase.py` file."
   ]
  },
  {
   "cell_type": "code",
   "execution_count": 2,
   "metadata": {},
   "outputs": [],
   "source": [
    "from itcs4156.datasets.HousingDataset import HousingDataset"
   ]
  },
  {
   "cell_type": "markdown",
   "metadata": {},
   "source": [
    "If you don't want to open the code to view it, we can use Python's `inspect` module to display the source code for us. Take a look at the `HousingDataset` source code. Notice, it inheirts from a base class called `Dataset` which is in the same directory as `HousingDataset.py`. We'll be using the `Dataset` class all throughout the semester."
   ]
  },
  {
   "cell_type": "code",
   "execution_count": 3,
   "metadata": {},
   "outputs": [
    {
     "name": "stdout",
     "output_type": "stream",
     "text": [
      "class HousingDataset(Dataset):\n",
      "\n",
      "    def __init__(self): \n",
      "        \n",
      "        self.data_dir = os.path.join(os.path.dirname(os.path.abspath(__file__)), \"data\")\n",
      "\n",
      "        self.data = {\n",
      "           \n",
      "            \"urls\" : {\n",
      "                \"train\" : \"https://drive.google.com/uc?export=download&id=1qbFX7dSCVdU8oj5uJVg5DOp-ckcZujGw\",\n",
      "                \"val\"   : \"https://drive.google.com/uc?export=download&id=1k_0i6-wAZMPLFjPkk2VFj0P9ksceJvWN\",\n",
      "                \"names\" : \"https://drive.google.com/uc?export=download&id=1zHWoQGrNByAh0yDCskNOAwQ7OARVHmGr\"\n",
      "            },\n",
      "\n",
      "            \"paths\" : {\n",
      "\n",
      "            },\n",
      "\n",
      "            \"columns\" :  [\"CRIM\", \"ZN\", \"INDUS\", \"CHAS\", \"NOX\", \"RM\", \"AGE\", \"DIS\", \"RAD\", \"TAX\", \"PTRATIO\", \"B\", \"LSTAT\", \"MEDV\"]\n",
      "        }\n",
      "\n",
      "        self.init_download()\n",
      "\n",
      "    def init_download(self):\n",
      "        for key, url in self.data[\"urls\"].items():\n",
      "            data_path = self.download(url, self.data_dir, 'housing.' + key)\n",
      "            self.data[\"paths\"][key] = data_path\n",
      "\n",
      "    def load(self):\n",
      "\n",
      "        df_train = pd.read_csv(self.data[\"paths\"][\"train\"], delim_whitespace=True, \n",
      "                        header=None, names=self.data[\"columns\"])\n",
      "\n",
      "        df_val = pd.read_csv(self.data[\"paths\"][\"val\"], delim_whitespace=True, \n",
      "                        header=None, names=self.data[\"columns\"])\n",
      "\n",
      "        return df_train, df_val\n",
      "\n"
     ]
    }
   ],
   "source": [
    "import inspect\n",
    "print(inspect.getsource(HousingDataset))"
   ]
  },
  {
   "cell_type": "markdown",
   "metadata": {},
   "source": [
    "Next, let's load the data by instantiating the `HousingDataset` class. If you already have the data downloaded then the download will be skipped."
   ]
  },
  {
   "cell_type": "code",
   "execution_count": 4,
   "metadata": {},
   "outputs": [
    {
     "name": "stdout",
     "output_type": "stream",
     "text": [
      "Skipping download. File already exists: c:\\users\\himea\\desktop\\itcs4156\\mini-projects\\itcs4156\\datasets\\data\\housing.train\n",
      "\n",
      "Skipping download. File already exists: c:\\users\\himea\\desktop\\itcs4156\\mini-projects\\itcs4156\\datasets\\data\\housing.val\n",
      "\n",
      "Skipping download. File already exists: c:\\users\\himea\\desktop\\itcs4156\\mini-projects\\itcs4156\\datasets\\data\\housing.names\n",
      "\n"
     ]
    }
   ],
   "source": [
    "dataset = HousingDataset()"
   ]
  },
  {
   "cell_type": "markdown",
   "metadata": {},
   "source": [
    "Lets take a moment to understand more about the dataset. To do so we can access the `data` variable in our `HousingDataset` instance (look at the source code to see what else the `data` variable stores)."
   ]
  },
  {
   "cell_type": "code",
   "execution_count": 5,
   "metadata": {},
   "outputs": [
    {
     "data": {
      "text/plain": [
       "{'urls': {'train': 'https://drive.google.com/uc?export=download&id=1qbFX7dSCVdU8oj5uJVg5DOp-ckcZujGw',\n",
       "  'val': 'https://drive.google.com/uc?export=download&id=1k_0i6-wAZMPLFjPkk2VFj0P9ksceJvWN',\n",
       "  'names': 'https://drive.google.com/uc?export=download&id=1zHWoQGrNByAh0yDCskNOAwQ7OARVHmGr'},\n",
       " 'paths': {'train': 'c:\\\\users\\\\himea\\\\desktop\\\\itcs4156\\\\mini-projects\\\\itcs4156\\\\datasets\\\\data\\\\housing.train',\n",
       "  'val': 'c:\\\\users\\\\himea\\\\desktop\\\\itcs4156\\\\mini-projects\\\\itcs4156\\\\datasets\\\\data\\\\housing.val',\n",
       "  'names': 'c:\\\\users\\\\himea\\\\desktop\\\\itcs4156\\\\mini-projects\\\\itcs4156\\\\datasets\\\\data\\\\housing.names'},\n",
       " 'columns': ['CRIM',\n",
       "  'ZN',\n",
       "  'INDUS',\n",
       "  'CHAS',\n",
       "  'NOX',\n",
       "  'RM',\n",
       "  'AGE',\n",
       "  'DIS',\n",
       "  'RAD',\n",
       "  'TAX',\n",
       "  'PTRATIO',\n",
       "  'B',\n",
       "  'LSTAT',\n",
       "  'MEDV']}"
      ]
     },
     "execution_count": 5,
     "metadata": {},
     "output_type": "execute_result"
    }
   ],
   "source": [
    "dataset.data"
   ]
  },
  {
   "cell_type": "markdown",
   "metadata": {},
   "source": [
    "As you can see the `dataset.data` class variable stores a lot of different data, most of which is meta data for downloading the data. However, there are some useful variables we can access in the dictionary. \n",
    "\n",
    "Let's access the 'names' subkey in the 'paths' key. This is a file that contains all the meta information about the features in our data, including our target. Take a second to read through the description of each feature. Recall our target will be  'MEDV' as this column stores the value of a house where each house is a data sample."
   ]
  },
  {
   "cell_type": "code",
   "execution_count": 6,
   "metadata": {
    "scrolled": true
   },
   "outputs": [
    {
     "name": "stdout",
     "output_type": "stream",
     "text": [
      "1. Title: Housing Data\n",
      "\n",
      "2. Concerns housing values in suburbs of Boston.\n",
      "\n",
      "3. Number of Attributes: 13 continuous attributes (including \"class\"\n",
      "                         attribute \"MEDV\"), 1 binary-valued attribute.\n",
      "\n",
      "4. Attribute Information:\n",
      "\n",
      "    1. CRIM      per capita crime rate by town\n",
      "    2. ZN        proportion of residential land zoned for lots over \n",
      "                 25,000 sq.ft.\n",
      "    3. INDUS     proportion of non-retail business acres per town\n",
      "    4. CHAS      Charles River dummy variable (= 1 if tract bounds \n",
      "                 river; 0 otherwise)\n",
      "    5. NOX       nitric oxides concentration (parts per 10 million)\n",
      "    6. RM        average number of rooms per dwelling\n",
      "    7. AGE       proportion of owner-occupied units built prior to 1940\n",
      "    8. DIS       weighted distances to five Boston employment centres\n",
      "    9. RAD       index of accessibility to radial highways\n",
      "    10. TAX      full-value property-tax rate per $10,000\n",
      "    11. PTRATIO  pupil-teacher ratio by town\n",
      "    12. B        1000(Bk - 0.63)^2 where Bk is the proportion of blacks \n",
      "                 by town\n",
      "    13. LSTAT    % lower status of the population\n",
      "    14. MEDV     Median value of owner-occupied homes in $1000's\n",
      "\n",
      "5. Missing Attribute Values:  None.\n",
      "\n",
      "\n",
      "\n",
      "\n"
     ]
    }
   ],
   "source": [
    "with open(dataset.data[\"paths\"][\"names\"], 'r') as rf:\n",
    "    print(rf.read())"
   ]
  },
  {
   "cell_type": "markdown",
   "metadata": {},
   "source": [
    "Next off, we can load a Dataframe of our train and validation data using the `load()` method. Sadly, unlike the labs you won't be in control of splitting the data. **Thus, when we load data you will always load the data <u>after</u> it has been split. However, notice that we haven't separated the target and features yet!**"
   ]
  },
  {
   "cell_type": "code",
   "execution_count": 7,
   "metadata": {},
   "outputs": [],
   "source": [
    "df_trn, df_vld = dataset.load()"
   ]
  },
  {
   "cell_type": "code",
   "execution_count": 8,
   "metadata": {},
   "outputs": [
    {
     "data": {
      "text/plain": [
       "(323, 14)"
      ]
     },
     "execution_count": 8,
     "metadata": {},
     "output_type": "execute_result"
    }
   ],
   "source": [
    "df_trn.shape"
   ]
  },
  {
   "cell_type": "code",
   "execution_count": 9,
   "metadata": {},
   "outputs": [
    {
     "data": {
      "text/plain": [
       "(81, 14)"
      ]
     },
     "execution_count": 9,
     "metadata": {},
     "output_type": "execute_result"
    }
   ],
   "source": [
    "df_vld.shape"
   ]
  },
  {
   "cell_type": "markdown",
   "metadata": {},
   "source": [
    "Train data is given below."
   ]
  },
  {
   "cell_type": "code",
   "execution_count": 10,
   "metadata": {},
   "outputs": [
    {
     "data": {
      "text/html": [
       "<div>\n",
       "<style scoped>\n",
       "    .dataframe tbody tr th:only-of-type {\n",
       "        vertical-align: middle;\n",
       "    }\n",
       "\n",
       "    .dataframe tbody tr th {\n",
       "        vertical-align: top;\n",
       "    }\n",
       "\n",
       "    .dataframe thead th {\n",
       "        text-align: right;\n",
       "    }\n",
       "</style>\n",
       "<table border=\"1\" class=\"dataframe\">\n",
       "  <thead>\n",
       "    <tr style=\"text-align: right;\">\n",
       "      <th></th>\n",
       "      <th>CRIM</th>\n",
       "      <th>ZN</th>\n",
       "      <th>INDUS</th>\n",
       "      <th>CHAS</th>\n",
       "      <th>NOX</th>\n",
       "      <th>RM</th>\n",
       "      <th>AGE</th>\n",
       "      <th>DIS</th>\n",
       "      <th>RAD</th>\n",
       "      <th>TAX</th>\n",
       "      <th>PTRATIO</th>\n",
       "      <th>B</th>\n",
       "      <th>LSTAT</th>\n",
       "      <th>MEDV</th>\n",
       "    </tr>\n",
       "  </thead>\n",
       "  <tbody>\n",
       "    <tr>\n",
       "      <th>0</th>\n",
       "      <td>0.01360</td>\n",
       "      <td>75.0</td>\n",
       "      <td>4.00</td>\n",
       "      <td>0</td>\n",
       "      <td>0.410</td>\n",
       "      <td>5.888</td>\n",
       "      <td>47.6</td>\n",
       "      <td>7.3197</td>\n",
       "      <td>3</td>\n",
       "      <td>469.0</td>\n",
       "      <td>21.1</td>\n",
       "      <td>396.90</td>\n",
       "      <td>14.80</td>\n",
       "      <td>18.9</td>\n",
       "    </tr>\n",
       "    <tr>\n",
       "      <th>1</th>\n",
       "      <td>0.77299</td>\n",
       "      <td>0.0</td>\n",
       "      <td>8.14</td>\n",
       "      <td>0</td>\n",
       "      <td>0.538</td>\n",
       "      <td>6.495</td>\n",
       "      <td>94.4</td>\n",
       "      <td>4.4547</td>\n",
       "      <td>4</td>\n",
       "      <td>307.0</td>\n",
       "      <td>21.0</td>\n",
       "      <td>387.94</td>\n",
       "      <td>12.80</td>\n",
       "      <td>18.4</td>\n",
       "    </tr>\n",
       "    <tr>\n",
       "      <th>2</th>\n",
       "      <td>7.05042</td>\n",
       "      <td>0.0</td>\n",
       "      <td>18.10</td>\n",
       "      <td>0</td>\n",
       "      <td>0.614</td>\n",
       "      <td>6.103</td>\n",
       "      <td>85.1</td>\n",
       "      <td>2.0218</td>\n",
       "      <td>24</td>\n",
       "      <td>666.0</td>\n",
       "      <td>20.2</td>\n",
       "      <td>2.52</td>\n",
       "      <td>23.29</td>\n",
       "      <td>13.4</td>\n",
       "    </tr>\n",
       "    <tr>\n",
       "      <th>3</th>\n",
       "      <td>0.20608</td>\n",
       "      <td>22.0</td>\n",
       "      <td>5.86</td>\n",
       "      <td>0</td>\n",
       "      <td>0.431</td>\n",
       "      <td>5.593</td>\n",
       "      <td>76.5</td>\n",
       "      <td>7.9549</td>\n",
       "      <td>7</td>\n",
       "      <td>330.0</td>\n",
       "      <td>19.1</td>\n",
       "      <td>372.49</td>\n",
       "      <td>12.50</td>\n",
       "      <td>17.6</td>\n",
       "    </tr>\n",
       "    <tr>\n",
       "      <th>4</th>\n",
       "      <td>0.10084</td>\n",
       "      <td>0.0</td>\n",
       "      <td>10.01</td>\n",
       "      <td>0</td>\n",
       "      <td>0.547</td>\n",
       "      <td>6.715</td>\n",
       "      <td>81.6</td>\n",
       "      <td>2.6775</td>\n",
       "      <td>6</td>\n",
       "      <td>432.0</td>\n",
       "      <td>17.8</td>\n",
       "      <td>395.59</td>\n",
       "      <td>10.16</td>\n",
       "      <td>22.8</td>\n",
       "    </tr>\n",
       "  </tbody>\n",
       "</table>\n",
       "</div>"
      ],
      "text/plain": [
       "      CRIM    ZN  INDUS  CHAS    NOX     RM   AGE     DIS  RAD    TAX  \\\n",
       "0  0.01360  75.0   4.00     0  0.410  5.888  47.6  7.3197    3  469.0   \n",
       "1  0.77299   0.0   8.14     0  0.538  6.495  94.4  4.4547    4  307.0   \n",
       "2  7.05042   0.0  18.10     0  0.614  6.103  85.1  2.0218   24  666.0   \n",
       "3  0.20608  22.0   5.86     0  0.431  5.593  76.5  7.9549    7  330.0   \n",
       "4  0.10084   0.0  10.01     0  0.547  6.715  81.6  2.6775    6  432.0   \n",
       "\n",
       "   PTRATIO       B  LSTAT  MEDV  \n",
       "0     21.1  396.90  14.80  18.9  \n",
       "1     21.0  387.94  12.80  18.4  \n",
       "2     20.2    2.52  23.29  13.4  \n",
       "3     19.1  372.49  12.50  17.6  \n",
       "4     17.8  395.59  10.16  22.8  "
      ]
     },
     "execution_count": 10,
     "metadata": {},
     "output_type": "execute_result"
    }
   ],
   "source": [
    "df_trn.head()"
   ]
  },
  {
   "cell_type": "markdown",
   "metadata": {},
   "source": [
    "Validation data is given below."
   ]
  },
  {
   "cell_type": "code",
   "execution_count": 11,
   "metadata": {},
   "outputs": [
    {
     "data": {
      "text/html": [
       "<div>\n",
       "<style scoped>\n",
       "    .dataframe tbody tr th:only-of-type {\n",
       "        vertical-align: middle;\n",
       "    }\n",
       "\n",
       "    .dataframe tbody tr th {\n",
       "        vertical-align: top;\n",
       "    }\n",
       "\n",
       "    .dataframe thead th {\n",
       "        text-align: right;\n",
       "    }\n",
       "</style>\n",
       "<table border=\"1\" class=\"dataframe\">\n",
       "  <thead>\n",
       "    <tr style=\"text-align: right;\">\n",
       "      <th></th>\n",
       "      <th>CRIM</th>\n",
       "      <th>ZN</th>\n",
       "      <th>INDUS</th>\n",
       "      <th>CHAS</th>\n",
       "      <th>NOX</th>\n",
       "      <th>RM</th>\n",
       "      <th>AGE</th>\n",
       "      <th>DIS</th>\n",
       "      <th>RAD</th>\n",
       "      <th>TAX</th>\n",
       "      <th>PTRATIO</th>\n",
       "      <th>B</th>\n",
       "      <th>LSTAT</th>\n",
       "      <th>MEDV</th>\n",
       "    </tr>\n",
       "  </thead>\n",
       "  <tbody>\n",
       "    <tr>\n",
       "      <th>0</th>\n",
       "      <td>0.08014</td>\n",
       "      <td>0.0</td>\n",
       "      <td>5.96</td>\n",
       "      <td>0</td>\n",
       "      <td>0.499</td>\n",
       "      <td>5.850</td>\n",
       "      <td>41.5</td>\n",
       "      <td>3.9342</td>\n",
       "      <td>5</td>\n",
       "      <td>279.0</td>\n",
       "      <td>19.2</td>\n",
       "      <td>396.90</td>\n",
       "      <td>8.77</td>\n",
       "      <td>21.0</td>\n",
       "    </tr>\n",
       "    <tr>\n",
       "      <th>1</th>\n",
       "      <td>0.13117</td>\n",
       "      <td>0.0</td>\n",
       "      <td>8.56</td>\n",
       "      <td>0</td>\n",
       "      <td>0.520</td>\n",
       "      <td>6.127</td>\n",
       "      <td>85.2</td>\n",
       "      <td>2.1224</td>\n",
       "      <td>5</td>\n",
       "      <td>384.0</td>\n",
       "      <td>20.9</td>\n",
       "      <td>387.69</td>\n",
       "      <td>14.09</td>\n",
       "      <td>20.4</td>\n",
       "    </tr>\n",
       "    <tr>\n",
       "      <th>2</th>\n",
       "      <td>0.34006</td>\n",
       "      <td>0.0</td>\n",
       "      <td>21.89</td>\n",
       "      <td>0</td>\n",
       "      <td>0.624</td>\n",
       "      <td>6.458</td>\n",
       "      <td>98.9</td>\n",
       "      <td>2.1185</td>\n",
       "      <td>4</td>\n",
       "      <td>437.0</td>\n",
       "      <td>21.2</td>\n",
       "      <td>395.04</td>\n",
       "      <td>12.60</td>\n",
       "      <td>19.2</td>\n",
       "    </tr>\n",
       "    <tr>\n",
       "      <th>3</th>\n",
       "      <td>6.44405</td>\n",
       "      <td>0.0</td>\n",
       "      <td>18.10</td>\n",
       "      <td>0</td>\n",
       "      <td>0.584</td>\n",
       "      <td>6.425</td>\n",
       "      <td>74.8</td>\n",
       "      <td>2.2004</td>\n",
       "      <td>24</td>\n",
       "      <td>666.0</td>\n",
       "      <td>20.2</td>\n",
       "      <td>97.95</td>\n",
       "      <td>12.03</td>\n",
       "      <td>16.1</td>\n",
       "    </tr>\n",
       "    <tr>\n",
       "      <th>4</th>\n",
       "      <td>41.52920</td>\n",
       "      <td>0.0</td>\n",
       "      <td>18.10</td>\n",
       "      <td>0</td>\n",
       "      <td>0.693</td>\n",
       "      <td>5.531</td>\n",
       "      <td>85.4</td>\n",
       "      <td>1.6074</td>\n",
       "      <td>24</td>\n",
       "      <td>666.0</td>\n",
       "      <td>20.2</td>\n",
       "      <td>329.46</td>\n",
       "      <td>27.38</td>\n",
       "      <td>8.5</td>\n",
       "    </tr>\n",
       "  </tbody>\n",
       "</table>\n",
       "</div>"
      ],
      "text/plain": [
       "       CRIM   ZN  INDUS  CHAS    NOX     RM   AGE     DIS  RAD    TAX  \\\n",
       "0   0.08014  0.0   5.96     0  0.499  5.850  41.5  3.9342    5  279.0   \n",
       "1   0.13117  0.0   8.56     0  0.520  6.127  85.2  2.1224    5  384.0   \n",
       "2   0.34006  0.0  21.89     0  0.624  6.458  98.9  2.1185    4  437.0   \n",
       "3   6.44405  0.0  18.10     0  0.584  6.425  74.8  2.2004   24  666.0   \n",
       "4  41.52920  0.0  18.10     0  0.693  5.531  85.4  1.6074   24  666.0   \n",
       "\n",
       "   PTRATIO       B  LSTAT  MEDV  \n",
       "0     19.2  396.90   8.77  21.0  \n",
       "1     20.9  387.69  14.09  20.4  \n",
       "2     21.2  395.04  12.60  19.2  \n",
       "3     20.2   97.95  12.03  16.1  \n",
       "4     20.2  329.46  27.38   8.5  "
      ]
     },
     "execution_count": 11,
     "metadata": {},
     "output_type": "execute_result"
    }
   ],
   "source": [
    "df_vld.head()"
   ]
  },
  {
   "cell_type": "markdown",
   "metadata": {},
   "source": [
    "# Exploration and Visualization"
   ]
  },
  {
   "cell_type": "markdown",
   "metadata": {},
   "source": [
    "Let's start off our data exploration by confirming our assumption we make when using a linear model: linearity. At the same time we can also observe if there are any non-linear relations we might be able to exploit when using polynomial regression!\n",
    "\n",
    "#### TODO 1 \n",
    "Complete this TODO by plotting the target 'MEDV' against all the features in order to see if there are any linear and non-linear relationships between our target and the other features. \n",
    "\n",
    "**Coding**\n",
    "1. Complete the `plot_features_vs_price()` which plots the price against all other features. This allows us to observe any linear features.\n",
    "    1. Refer to the labs for examples of how to plot targets against features!\n",
    "    \n",
    "**Written Responses**\n",
    "\n",
    "2. (2-3 sentences) Given the features vs price plot, which features do you observe to have a linear trend with house prices. In your own words, explain what this feature is using the above data description.\n",
    "\n",
    "3. (2-3 sentences) Given the features vs price plot, which features do you observe to have a non-linear trend with the price target.In your own words, explain what this feature is using the above data description."
   ]
  },
  {
   "cell_type": "code",
   "execution_count": 12,
   "metadata": {},
   "outputs": [],
   "source": [
    "import matplotlib.pyplot as plt\n",
    "\n",
    "# TODO 1.1\n",
    "def plot_features_vs_price(features, price):\n",
    "    fig, _ = plt.subplots(figsize=(20, 13))\n",
    "    \n",
    "    for idx, column_name in enumerate(features.columns.values):\n",
    "        plt.subplot(3, 5, idx+1)\n",
    "        \n",
    "        plt.plot(price, df_trn[column_name], '.')\n",
    "        \n",
    "        plt.xlabel('Price')\n",
    "        plt.ylabel(column_name)\n",
    "        \n",
    "        fig.tight_layout()\n",
    "        \n",
    "    return plt.show()"
   ]
  },
  {
   "cell_type": "code",
   "execution_count": 13,
   "metadata": {},
   "outputs": [
    {
     "data": {
      "image/png": "[encoded data removed]",
      "text/plain": [
       "<Figure size 1440x936 with 13 Axes>"
      ]
     },
     "metadata": {
      "needs_background": "light"
     },
     "output_type": "display_data"
    }
   ],
   "source": [
    "features = df_trn.drop(['MEDV'], axis=1)\n",
    "price = df_trn['MEDV']\n",
    "plot_features_vs_price(features, price)"
   ]
  },
  {
   "cell_type": "markdown",
   "metadata": {},
   "source": [
    "    TODO 1.2 -  Add written response below\n",
    "    --------------------------------------\n",
    "    "
   ]
  },
  {
   "cell_type": "markdown",
   "metadata": {},
   "source": [
    "    TODO 1.3 -  Add written response below\n",
    "    --------------------------------------\n",
    "    "
   ]
  },
  {
   "cell_type": "markdown",
   "metadata": {},
   "source": [
    "# Preprocessing\n",
    "\n",
    "For this dataset there isn't much to preprocessing to do besides splitting our data into features `X` and labels `y` and performing standardization. In future mini-projects all preprocessing will be left up to you. Since the preprocessing is limited here and this is your first mini-project we'll provide it for you!\n"
   ]
  },
  {
   "cell_type": "markdown",
   "metadata": {},
   "source": [
    "## Splitting features and labels\n",
    "\n",
    "To split your data into features and labels we have defined a function called `feature_label_split()`. This function is located in the `itcs4156/util/data.py` script."
   ]
  },
  {
   "cell_type": "code",
   "execution_count": 14,
   "metadata": {},
   "outputs": [
    {
     "name": "stdout",
     "output_type": "stream",
     "text": [
      "def feature_label_split(df: pd.DataFrame, \n",
      "                        feature_names: List[str], \n",
      "                        label_name: str, \n",
      "                        return_df: bool = False) -> Union[np.ndarray, pd.DataFrame]:\n",
      "    \"\"\" Splits DataFrame into features and labels\n",
      "    \n",
      "        Args:\n",
      "            df: DataFrame which contains the features and label\n",
      "            \n",
      "            feature_name: Name of the columns to be used as features. Only the names given\n",
      "                will be returned.\n",
      "            \n",
      "            label_feature: Name of the column which will be used as the label.\n",
      "            \n",
      "            return_df: If True then X and y will be returned as a DataFrame\n",
      "\n",
      "    \"\"\"\n",
      "\n",
      "    if isinstance(feature_names, (list, pd.Index, np.ndarray, tuple)):\n",
      "        n = len(feature_names)\n",
      "    else:\n",
      "        n = 1\n",
      "\n",
      "    X = df[feature_names]\n",
      "    y = df[label_name]\n",
      "    \n",
      "    if return_df:\n",
      "        return X, y\n",
      "    \n",
      "    return X.values.reshape((-1,n)), y.values.reshape((-1,1))\n",
      "\n"
     ]
    }
   ],
   "source": [
    "from itcs4156.util.data import feature_label_split\n",
    "\n",
    "# comment out the below line to hide source code\n",
    "print(inspect.getsource(feature_label_split))"
   ]
  },
  {
   "cell_type": "markdown",
   "metadata": {},
   "source": [
    "Below we further define a function to split both our train and validation data."
   ]
  },
  {
   "cell_type": "code",
   "execution_count": 15,
   "metadata": {},
   "outputs": [],
   "source": [
    "def split_data(df_trn: pd. DataFrame, \n",
    "               df_vld: pd.DataFrame, \n",
    "               feature_names: List[str], \n",
    "               label_name: str, \n",
    "               return_df: bool = False):\n",
    "    \"\"\"\n",
    "        Args:\n",
    "            df_trn: Your training DataFrame\n",
    "            \n",
    "            df_vld: Your validation DataFrame\n",
    "            \n",
    "            feature_names: List of features names you want to include \n",
    "                in your training and validation data.\n",
    "            \n",
    "            label_name: The name of the target/label.\n",
    "            \n",
    "            return_df: If True a DataFrame will be returned.\n",
    "    \"\"\"\n",
    "    \n",
    "    X_trn, y_trn = feature_label_split(df_trn, \n",
    "                                       feature_names=feature_names, \n",
    "                                       label_name=label_name, \n",
    "                                       return_df=return_df)\n",
    "    X_vld, y_vld = feature_label_split(df_vld, \n",
    "                                       feature_names=feature_names, \n",
    "                                       label_name=label_name, \n",
    "                                       return_df=return_df)\n",
    "    \n",
    "    return X_trn, y_trn, X_vld, y_vld"
   ]
  },
  {
   "cell_type": "code",
   "execution_count": 16,
   "metadata": {},
   "outputs": [
    {
     "name": "stdout",
     "output_type": "stream",
     "text": [
      "df_X_trn shape: (323, 13)\n",
      "df_X_trn type: <class 'pandas.core.frame.DataFrame'>\n",
      "df_y_trn shape: (323,)\n",
      "df_y_trn type: <class 'pandas.core.series.Series'>\n",
      "df_X_vld shape: (81, 13)\n",
      "df_X_vld type: <class 'pandas.core.frame.DataFrame'>\n",
      "df_y_vld shape: (81,)\n",
      "df_y_vld type: <class 'pandas.core.series.Series'>\n"
     ]
    }
   ],
   "source": [
    "feature_names = df_trn.drop('MEDV', axis=1).columns\n",
    "label_name = 'MEDV'\n",
    "df_X_trn, df_y_trn, df_X_vld, df_y_vld = split_data(df_trn, df_vld, feature_names, label_name, return_df=True)\n",
    "\n",
    "\n",
    "print(f\"df_X_trn shape: {df_X_trn.shape}\")\n",
    "print(f\"df_X_trn type: {type(df_X_trn)}\")\n",
    "      \n",
    "print(f\"df_y_trn shape: {df_y_trn.shape}\")\n",
    "print(f\"df_y_trn type: {type(df_y_trn)}\")\n",
    "      \n",
    "print(f\"df_X_vld shape: {df_X_vld.shape}\")\n",
    "print(f\"df_X_vld type: {type(df_X_vld)}\")\n",
    "      \n",
    "print(f\"df_y_vld shape: {df_y_vld.shape}\")\n",
    "print(f\"df_y_vld type: {type(df_y_vld)}\")"
   ]
  },
  {
   "cell_type": "markdown",
   "metadata": {},
   "source": [
    "## Standardization\n",
    "\n",
    "We have implement the `Standardization` class from our labs for you. You can find it in the `itcs4156/util/data` directory. "
   ]
  },
  {
   "cell_type": "code",
   "execution_count": 17,
   "metadata": {},
   "outputs": [
    {
     "name": "stdout",
     "output_type": "stream",
     "text": [
      "class Standardization(BaseEstimator, TransformerMixin):\n",
      "    def __init__(self):\n",
      "        pass\n",
      "    \n",
      "    def fit(self, X: Union[np.ndarray, pd.DataFrame]):\n",
      "        self.mean = np.mean(X, axis=0)\n",
      "        self.std = np.std(X, axis=0)\n",
      "        return self\n",
      "    \n",
      "    def transform(self, X):\n",
      "        return (X  - self.mean) / self.std\n",
      "\n"
     ]
    }
   ],
   "source": [
    "from itcs4156.util.data import Standardization\n",
    "\n",
    "# comment out the below line to hide source code\n",
    "print(inspect.getsource(Standardization))"
   ]
  },
  {
   "cell_type": "markdown",
   "metadata": {},
   "source": [
    "Below we further define a function to standardize both our train and validation data."
   ]
  },
  {
   "cell_type": "code",
   "execution_count": 18,
   "metadata": {},
   "outputs": [],
   "source": [
    "def standardize_data(X_trn: Union[pd.DataFrame, np.ndarray], \n",
    "                     X_vld: Union[pd.DataFrame, np.ndarray]):\n",
    "    \"\"\" Standardizes your X training and validation features after\n",
    "        your data has been split into features and labels.\n",
    "        \n",
    "        Args:\n",
    "            X_trn: You training input features. Make sure the target/label \n",
    "                is not included.\n",
    "\n",
    "            X_vld: You training input features. Make sure the target/label \n",
    "                is not included.\n",
    "    \"\"\"\n",
    "    standardize = Standardization()\n",
    "    X_trn_clean = standardize.fit_transform(X_trn)\n",
    "    X_vld_clean = standardize.transform(X_vld)\n",
    "    \n",
    "    return X_trn_clean, X_vld_clean"
   ]
  },
  {
   "cell_type": "markdown",
   "metadata": {},
   "source": [
    "Below we demonstrate how to use `standardize_data()`. We also demonstrate how to return DataFrames with the `split_data()` using the `return_df=True` argument."
   ]
  },
  {
   "cell_type": "code",
   "execution_count": 19,
   "metadata": {},
   "outputs": [
    {
     "name": "stdout",
     "output_type": "stream",
     "text": [
      "df_X_trn shape: (323, 13)\n",
      "df_X_trn type: <class 'pandas.core.frame.DataFrame'>\n",
      "df_y_trn shape: (323,)\n",
      "df_y_trn type: <class 'pandas.core.series.Series'>\n",
      "df_X_vld shape: (81, 13)\n",
      "df_X_vld type: <class 'pandas.core.frame.DataFrame'>\n",
      "df_y_vld shape: (81,)\n",
      "df_y_vld type: <class 'pandas.core.series.Series'>\n"
     ]
    }
   ],
   "source": [
    "feature_names = df_trn.drop('MEDV', axis=1).columns\n",
    "label_name = 'MEDV'\n",
    "df_X_trn, df_y_trn, df_X_vld, df_y_vld = split_data(df_trn, df_vld, feature_names, label_name, return_df=True)\n",
    "\n",
    "df_X_trn, df_X_vld = standardize_data(df_X_trn, df_X_vld)\n",
    "\n",
    "\n",
    "print(f\"df_X_trn shape: {df_X_trn.shape}\")\n",
    "print(f\"df_X_trn type: {type(df_X_trn)}\")\n",
    "      \n",
    "print(f\"df_y_trn shape: {df_y_trn.shape}\")\n",
    "print(f\"df_y_trn type: {type(df_y_trn)}\")\n",
    "      \n",
    "print(f\"df_X_vld shape: {df_X_vld.shape}\")\n",
    "print(f\"df_X_vld type: {type(df_X_vld)}\")\n",
    "      \n",
    "print(f\"df_y_vld shape: {df_y_vld.shape}\")\n",
    "print(f\"df_y_vld type: {type(df_y_vld)}\")"
   ]
  },
  {
   "cell_type": "code",
   "execution_count": 20,
   "metadata": {},
   "outputs": [
    {
     "data": {
      "text/html": [
       "<div>\n",
       "<style scoped>\n",
       "    .dataframe tbody tr th:only-of-type {\n",
       "        vertical-align: middle;\n",
       "    }\n",
       "\n",
       "    .dataframe tbody tr th {\n",
       "        vertical-align: top;\n",
       "    }\n",
       "\n",
       "    .dataframe thead th {\n",
       "        text-align: right;\n",
       "    }\n",
       "</style>\n",
       "<table border=\"1\" class=\"dataframe\">\n",
       "  <thead>\n",
       "    <tr style=\"text-align: right;\">\n",
       "      <th></th>\n",
       "      <th>CRIM</th>\n",
       "      <th>ZN</th>\n",
       "      <th>INDUS</th>\n",
       "      <th>CHAS</th>\n",
       "      <th>NOX</th>\n",
       "      <th>RM</th>\n",
       "      <th>AGE</th>\n",
       "      <th>DIS</th>\n",
       "      <th>RAD</th>\n",
       "      <th>TAX</th>\n",
       "      <th>PTRATIO</th>\n",
       "      <th>B</th>\n",
       "      <th>LSTAT</th>\n",
       "    </tr>\n",
       "  </thead>\n",
       "  <tbody>\n",
       "    <tr>\n",
       "      <th>0</th>\n",
       "      <td>-0.406335</td>\n",
       "      <td>2.694960</td>\n",
       "      <td>-1.018457</td>\n",
       "      <td>-0.283315</td>\n",
       "      <td>-1.243655</td>\n",
       "      <td>-0.588349</td>\n",
       "      <td>-0.761019</td>\n",
       "      <td>1.666643</td>\n",
       "      <td>-0.716674</td>\n",
       "      <td>0.415677</td>\n",
       "      <td>1.248406</td>\n",
       "      <td>0.446969</td>\n",
       "      <td>0.322004</td>\n",
       "    </tr>\n",
       "    <tr>\n",
       "      <th>1</th>\n",
       "      <td>-0.317609</td>\n",
       "      <td>-0.491559</td>\n",
       "      <td>-0.423457</td>\n",
       "      <td>-0.283315</td>\n",
       "      <td>-0.161333</td>\n",
       "      <td>0.241637</td>\n",
       "      <td>0.914684</td>\n",
       "      <td>0.319088</td>\n",
       "      <td>-0.598750</td>\n",
       "      <td>-0.571600</td>\n",
       "      <td>1.203706</td>\n",
       "      <td>0.352972</td>\n",
       "      <td>0.041944</td>\n",
       "    </tr>\n",
       "    <tr>\n",
       "      <th>2</th>\n",
       "      <td>0.415842</td>\n",
       "      <td>-0.491559</td>\n",
       "      <td>1.007992</td>\n",
       "      <td>-0.283315</td>\n",
       "      <td>0.481296</td>\n",
       "      <td>-0.294367</td>\n",
       "      <td>0.581692</td>\n",
       "      <td>-0.825228</td>\n",
       "      <td>1.759740</td>\n",
       "      <td>1.616254</td>\n",
       "      <td>0.846109</td>\n",
       "      <td>-3.690352</td>\n",
       "      <td>1.510857</td>\n",
       "    </tr>\n",
       "    <tr>\n",
       "      <th>3</th>\n",
       "      <td>-0.383846</td>\n",
       "      <td>0.443153</td>\n",
       "      <td>-0.751138</td>\n",
       "      <td>-0.283315</td>\n",
       "      <td>-1.066086</td>\n",
       "      <td>-0.991720</td>\n",
       "      <td>0.273763</td>\n",
       "      <td>1.965410</td>\n",
       "      <td>-0.244976</td>\n",
       "      <td>-0.431431</td>\n",
       "      <td>0.354414</td>\n",
       "      <td>0.190891</td>\n",
       "      <td>-0.000065</td>\n",
       "    </tr>\n",
       "    <tr>\n",
       "      <th>4</th>\n",
       "      <td>-0.396142</td>\n",
       "      <td>-0.491559</td>\n",
       "      <td>-0.154701</td>\n",
       "      <td>-0.283315</td>\n",
       "      <td>-0.085232</td>\n",
       "      <td>0.542456</td>\n",
       "      <td>0.456372</td>\n",
       "      <td>-0.516819</td>\n",
       "      <td>-0.362901</td>\n",
       "      <td>0.190187</td>\n",
       "      <td>-0.226681</td>\n",
       "      <td>0.433226</td>\n",
       "      <td>-0.327735</td>\n",
       "    </tr>\n",
       "  </tbody>\n",
       "</table>\n",
       "</div>"
      ],
      "text/plain": [
       "       CRIM        ZN     INDUS      CHAS       NOX        RM       AGE  \\\n",
       "0 -0.406335  2.694960 -1.018457 -0.283315 -1.243655 -0.588349 -0.761019   \n",
       "1 -0.317609 -0.491559 -0.423457 -0.283315 -0.161333  0.241637  0.914684   \n",
       "2  0.415842 -0.491559  1.007992 -0.283315  0.481296 -0.294367  0.581692   \n",
       "3 -0.383846  0.443153 -0.751138 -0.283315 -1.066086 -0.991720  0.273763   \n",
       "4 -0.396142 -0.491559 -0.154701 -0.283315 -0.085232  0.542456  0.456372   \n",
       "\n",
       "        DIS       RAD       TAX   PTRATIO         B     LSTAT  \n",
       "0  1.666643 -0.716674  0.415677  1.248406  0.446969  0.322004  \n",
       "1  0.319088 -0.598750 -0.571600  1.203706  0.352972  0.041944  \n",
       "2 -0.825228  1.759740  1.616254  0.846109 -3.690352  1.510857  \n",
       "3  1.965410 -0.244976 -0.431431  0.354414  0.190891 -0.000065  \n",
       "4 -0.516819 -0.362901  0.190187 -0.226681  0.433226 -0.327735  "
      ]
     },
     "execution_count": 20,
     "metadata": {},
     "output_type": "execute_result"
    }
   ],
   "source": [
    "df_X_trn.head()"
   ]
  },
  {
   "cell_type": "code",
   "execution_count": 21,
   "metadata": {},
   "outputs": [
    {
     "data": {
      "text/html": [
       "<div>\n",
       "<style scoped>\n",
       "    .dataframe tbody tr th:only-of-type {\n",
       "        vertical-align: middle;\n",
       "    }\n",
       "\n",
       "    .dataframe tbody tr th {\n",
       "        vertical-align: top;\n",
       "    }\n",
       "\n",
       "    .dataframe thead th {\n",
       "        text-align: right;\n",
       "    }\n",
       "</style>\n",
       "<table border=\"1\" class=\"dataframe\">\n",
       "  <thead>\n",
       "    <tr style=\"text-align: right;\">\n",
       "      <th></th>\n",
       "      <th>CRIM</th>\n",
       "      <th>ZN</th>\n",
       "      <th>INDUS</th>\n",
       "      <th>CHAS</th>\n",
       "      <th>NOX</th>\n",
       "      <th>RM</th>\n",
       "      <th>AGE</th>\n",
       "      <th>DIS</th>\n",
       "      <th>RAD</th>\n",
       "      <th>TAX</th>\n",
       "      <th>PTRATIO</th>\n",
       "      <th>B</th>\n",
       "      <th>LSTAT</th>\n",
       "    </tr>\n",
       "  </thead>\n",
       "  <tbody>\n",
       "    <tr>\n",
       "      <th>count</th>\n",
       "      <td>3.230000e+02</td>\n",
       "      <td>3.230000e+02</td>\n",
       "      <td>3.230000e+02</td>\n",
       "      <td>3.230000e+02</td>\n",
       "      <td>3.230000e+02</td>\n",
       "      <td>3.230000e+02</td>\n",
       "      <td>3.230000e+02</td>\n",
       "      <td>3.230000e+02</td>\n",
       "      <td>3.230000e+02</td>\n",
       "      <td>3.230000e+02</td>\n",
       "      <td>3.230000e+02</td>\n",
       "      <td>3.230000e+02</td>\n",
       "      <td>3.230000e+02</td>\n",
       "    </tr>\n",
       "    <tr>\n",
       "      <th>mean</th>\n",
       "      <td>-3.162245e-17</td>\n",
       "      <td>-1.099911e-17</td>\n",
       "      <td>-2.199823e-16</td>\n",
       "      <td>8.249335e-18</td>\n",
       "      <td>-2.942263e-16</td>\n",
       "      <td>-4.427143e-16</td>\n",
       "      <td>2.969761e-16</td>\n",
       "      <td>-1.979840e-16</td>\n",
       "      <td>-9.624224e-18</td>\n",
       "      <td>-4.124668e-17</td>\n",
       "      <td>1.770857e-15</td>\n",
       "      <td>-3.299734e-16</td>\n",
       "      <td>2.361372e-16</td>\n",
       "    </tr>\n",
       "    <tr>\n",
       "      <th>std</th>\n",
       "      <td>1.001552e+00</td>\n",
       "      <td>1.001552e+00</td>\n",
       "      <td>1.001552e+00</td>\n",
       "      <td>1.001552e+00</td>\n",
       "      <td>1.001552e+00</td>\n",
       "      <td>1.001552e+00</td>\n",
       "      <td>1.001552e+00</td>\n",
       "      <td>1.001552e+00</td>\n",
       "      <td>1.001552e+00</td>\n",
       "      <td>1.001552e+00</td>\n",
       "      <td>1.001552e+00</td>\n",
       "      <td>1.001552e+00</td>\n",
       "      <td>1.001552e+00</td>\n",
       "    </tr>\n",
       "    <tr>\n",
       "      <th>min</th>\n",
       "      <td>-4.068657e-01</td>\n",
       "      <td>-4.915592e-01</td>\n",
       "      <td>-1.486984e+00</td>\n",
       "      <td>-2.833153e-01</td>\n",
       "      <td>-1.455046e+00</td>\n",
       "      <td>-3.357249e+00</td>\n",
       "      <td>-2.361531e+00</td>\n",
       "      <td>-1.244874e+00</td>\n",
       "      <td>-9.525234e-01</td>\n",
       "      <td>-1.296822e+00</td>\n",
       "      <td>-2.551059e+00</td>\n",
       "      <td>-3.690352e+00</td>\n",
       "      <td>-1.508186e+00</td>\n",
       "    </tr>\n",
       "    <tr>\n",
       "      <th>25%</th>\n",
       "      <td>-3.985286e-01</td>\n",
       "      <td>-4.915592e-01</td>\n",
       "      <td>-8.517422e-01</td>\n",
       "      <td>-2.833153e-01</td>\n",
       "      <td>-9.181126e-01</td>\n",
       "      <td>-5.883491e-01</td>\n",
       "      <td>-7.842929e-01</td>\n",
       "      <td>-8.207827e-01</td>\n",
       "      <td>-5.987499e-01</td>\n",
       "      <td>-7.422406e-01</td>\n",
       "      <td>-6.736768e-01</td>\n",
       "      <td>2.247760e-01</td>\n",
       "      <td>-7.947343e-01</td>\n",
       "    </tr>\n",
       "    <tr>\n",
       "      <th>50%</th>\n",
       "      <td>-3.764501e-01</td>\n",
       "      <td>-4.915592e-01</td>\n",
       "      <td>-3.630949e-01</td>\n",
       "      <td>-2.833153e-01</td>\n",
       "      <td>-1.613326e-01</td>\n",
       "      <td>-1.494272e-01</td>\n",
       "      <td>3.310524e-01</td>\n",
       "      <td>-3.124043e-01</td>\n",
       "      <td>-4.808253e-01</td>\n",
       "      <td>-4.375256e-01</td>\n",
       "      <td>1.309158e-01</td>\n",
       "      <td>3.879063e-01</td>\n",
       "      <td>-2.283136e-01</td>\n",
       "    </tr>\n",
       "    <tr>\n",
       "      <th>75%</th>\n",
       "      <td>-9.424274e-02</td>\n",
       "      <td>1.457446e-01</td>\n",
       "      <td>1.007992e+00</td>\n",
       "      <td>-2.833153e-01</td>\n",
       "      <td>6.250421e-01</td>\n",
       "      <td>4.269141e-01</td>\n",
       "      <td>8.985716e-01</td>\n",
       "      <td>7.373713e-01</td>\n",
       "      <td>-1.270518e-01</td>\n",
       "      <td>3.181678e-01</td>\n",
       "      <td>8.461092e-01</td>\n",
       "      <td>4.402549e-01</td>\n",
       "      <td>5.453511e-01</td>\n",
       "    </tr>\n",
       "    <tr>\n",
       "      <th>max</th>\n",
       "      <td>9.987997e+00</td>\n",
       "      <td>3.757132e+00</td>\n",
       "      <td>2.393451e+00</td>\n",
       "      <td>3.529636e+00</td>\n",
       "      <td>2.654396e+00</td>\n",
       "      <td>3.366050e+00</td>\n",
       "      <td>1.115196e+00</td>\n",
       "      <td>3.261414e+00</td>\n",
       "      <td>1.759740e+00</td>\n",
       "      <td>1.890498e+00</td>\n",
       "      <td>1.650702e+00</td>\n",
       "      <td>4.469689e-01</td>\n",
       "      <td>3.566495e+00</td>\n",
       "    </tr>\n",
       "  </tbody>\n",
       "</table>\n",
       "</div>"
      ],
      "text/plain": [
       "               CRIM            ZN         INDUS          CHAS           NOX  \\\n",
       "count  3.230000e+02  3.230000e+02  3.230000e+02  3.230000e+02  3.230000e+02   \n",
       "mean  -3.162245e-17 -1.099911e-17 -2.199823e-16  8.249335e-18 -2.942263e-16   \n",
       "std    1.001552e+00  1.001552e+00  1.001552e+00  1.001552e+00  1.001552e+00   \n",
       "min   -4.068657e-01 -4.915592e-01 -1.486984e+00 -2.833153e-01 -1.455046e+00   \n",
       "25%   -3.985286e-01 -4.915592e-01 -8.517422e-01 -2.833153e-01 -9.181126e-01   \n",
       "50%   -3.764501e-01 -4.915592e-01 -3.630949e-01 -2.833153e-01 -1.613326e-01   \n",
       "75%   -9.424274e-02  1.457446e-01  1.007992e+00 -2.833153e-01  6.250421e-01   \n",
       "max    9.987997e+00  3.757132e+00  2.393451e+00  3.529636e+00  2.654396e+00   \n",
       "\n",
       "                 RM           AGE           DIS           RAD           TAX  \\\n",
       "count  3.230000e+02  3.230000e+02  3.230000e+02  3.230000e+02  3.230000e+02   \n",
       "mean  -4.427143e-16  2.969761e-16 -1.979840e-16 -9.624224e-18 -4.124668e-17   \n",
       "std    1.001552e+00  1.001552e+00  1.001552e+00  1.001552e+00  1.001552e+00   \n",
       "min   -3.357249e+00 -2.361531e+00 -1.244874e+00 -9.525234e-01 -1.296822e+00   \n",
       "25%   -5.883491e-01 -7.842929e-01 -8.207827e-01 -5.987499e-01 -7.422406e-01   \n",
       "50%   -1.494272e-01  3.310524e-01 -3.124043e-01 -4.808253e-01 -4.375256e-01   \n",
       "75%    4.269141e-01  8.985716e-01  7.373713e-01 -1.270518e-01  3.181678e-01   \n",
       "max    3.366050e+00  1.115196e+00  3.261414e+00  1.759740e+00  1.890498e+00   \n",
       "\n",
       "            PTRATIO             B         LSTAT  \n",
       "count  3.230000e+02  3.230000e+02  3.230000e+02  \n",
       "mean   1.770857e-15 -3.299734e-16  2.361372e-16  \n",
       "std    1.001552e+00  1.001552e+00  1.001552e+00  \n",
       "min   -2.551059e+00 -3.690352e+00 -1.508186e+00  \n",
       "25%   -6.736768e-01  2.247760e-01 -7.947343e-01  \n",
       "50%    1.309158e-01  3.879063e-01 -2.283136e-01  \n",
       "75%    8.461092e-01  4.402549e-01  5.453511e-01  \n",
       "max    1.650702e+00  4.469689e-01  3.566495e+00  "
      ]
     },
     "execution_count": 21,
     "metadata": {},
     "output_type": "execute_result"
    }
   ],
   "source": [
    "df_X_trn.describe()"
   ]
  },
  {
   "cell_type": "markdown",
   "metadata": {},
   "source": [
    "## Putting it all together\n",
    "\n",
    "Lastly, we define a function `get_cleaned_data()` which will apply all our data cleaning and transformation functions."
   ]
  },
  {
   "cell_type": "code",
   "execution_count": 22,
   "metadata": {},
   "outputs": [],
   "source": [
    "def get_cleaned_data(df_trn: pd. DataFrame, \n",
    "                    df_vld: pd.DataFrame, \n",
    "                    feature_names: List[str], \n",
    "                    label_name: str, \n",
    "                    return_df: bool = False):\n",
    "    \"\"\" Split and clean your data\n",
    "    \n",
    "        Args:\n",
    "            df_trn: Your training DataFrame\n",
    "            \n",
    "            df_vld: Your validation DataFrame\n",
    "            \n",
    "            feature_names: List of features names you want to include \n",
    "                in your training and validation data.\n",
    "            \n",
    "            label_name: The name of the target/label.\n",
    "            \n",
    "            return_df: If True a DataFrame will be returned\n",
    "    \"\"\"\n",
    "    \n",
    "    X_trn, y_trn, X_vld, y_vld = split_data(df_trn, df_vld, feature_names, label_name)\n",
    "    X_trn, X_vld = standardize_data(X_trn, X_vld)\n",
    "    \n",
    "    print(f\"X_trn shape: {X_trn.shape}\")\n",
    "    print(f\"X_trn type: {type(X_trn)}\")\n",
    "\n",
    "    print(f\"y_trn shape: {y_trn.shape}\")\n",
    "    print(f\"y_trn type: {type(y_trn)}\")\n",
    "\n",
    "    print(f\"X_vld shape: {X_vld.shape}\")\n",
    "    print(f\"X_vld type: {type(X_vld)}\")\n",
    "\n",
    "    print(f\"y_vld shape: {y_vld.shape}\")\n",
    "    print(f\"y_vld type: {type(y_vld)}\")\n",
    "\n",
    "    return X_trn, y_trn, X_vld, y_vld"
   ]
  },
  {
   "cell_type": "code",
   "execution_count": 23,
   "metadata": {},
   "outputs": [
    {
     "name": "stdout",
     "output_type": "stream",
     "text": [
      "X_trn shape: (323, 13)\n",
      "X_trn type: <class 'numpy.ndarray'>\n",
      "y_trn shape: (323, 1)\n",
      "y_trn type: <class 'numpy.ndarray'>\n",
      "X_vld shape: (81, 13)\n",
      "X_vld type: <class 'numpy.ndarray'>\n",
      "y_vld shape: (81, 1)\n",
      "y_vld type: <class 'numpy.ndarray'>\n"
     ]
    }
   ],
   "source": [
    "feature_names = df_trn.drop('MEDV', axis=1).columns\n",
    "label_name = 'MEDV'\n",
    "X_trn, y_trn, X_vld, y_vld = get_cleaned_data(df_trn, df_vld, feature_names, label_name)"
   ]
  },
  {
   "cell_type": "markdown",
   "metadata": {},
   "source": [
    "# Performance metrics and plotting"
   ]
  },
  {
   "cell_type": "code",
   "execution_count": 24,
   "metadata": {},
   "outputs": [],
   "source": [
    "from itcs4156.util.metrics import error, sse, mse, rmse\n",
    "\n",
    "def performance_measures(y_hat: np.ndarray, y: np.ndarray) -> Tuple[np.ndarray]:\n",
    "    \"\"\" Compute error, SSE, MSE, and RMSE\"\"\"\n",
    "    err = error(y_hat, y)\n",
    "    sse_ = sse(y_hat, y)\n",
    "    mse_ = mse(y_hat, y)\n",
    "    rmse_ = rmse(y_hat, y)\n",
    "    return err, sse_, mse_, rmse_"
   ]
  },
  {
   "cell_type": "code",
   "execution_count": 25,
   "metadata": {},
   "outputs": [],
   "source": [
    "def analyze(y_hat: np.ndarray, \n",
    "            y: np.ndarray, \n",
    "            title: str, \n",
    "            dataset: str,\n",
    "            ylabel: str = None) -> Tuple[np.ndarray, float, float, float]:\n",
    "    \"\"\" Plot your results using your predictions and labels\"\"\"\n",
    "    err, sse, mse_, rmse_ = performance_measures(y_hat, y)\n",
    "    # plotting\n",
    "    fig, axs = plt.subplots(1, 2, figsize=(15,7))\n",
    "    fig.suptitle(title, fontsize=15)\n",
    "    axs[0].plot(y, 'ob', label = \"Targets\")\n",
    "    axs[0].plot(y_hat, 'xr', label = \"Predictions\")\n",
    "    axs[0].set_xlabel(\"Data sample index\")\n",
    "    axs[0].set_ylabel(ylabel)\n",
    "    axs[0].legend()\n",
    "\n",
    "    \n",
    "    y1 = min(y)\n",
    "    y2 = max(y)\n",
    "    line = np.arange(y1,y2)\n",
    "    axs[1].scatter(y, y_hat, label=\"True vs Predicted\", color='b', marker='*')\n",
    "    axs[1].set_xlabel(\"Targets\")\n",
    "    axs[1].set_ylabel(\"Predictions\")\n",
    "    axs[1].set_ylim(y1, y2)\n",
    "    axs[1].set_xlim(y1, y2)\n",
    "    axs[1].plot(line, line, label = \"Line of Zero Error\", color='r')\n",
    "    axs[1].legend()\n",
    "    plt.show()\n",
    "    \n",
    "    print(f\"{dataset} MSE: {mse_}\")\n",
    "    print(f\"{dataset} RMSE: {rmse_}\")\n",
    "    print(f\"{dataset} SSE: {sse}\")\n",
    "    \n",
    "    return err, sse, mse_, rmse_\n"
   ]
  },
  {
   "cell_type": "markdown",
   "metadata": {},
   "source": [
    "# Linear Regression with One Variable - Ordinary Least Squares\n",
    "In this 1st task, the goal is to fit a linear model for predicting house price just using the 'RM' feature.\n",
    "\n",
    "You might have notice in our visualizations in the *Exploration and Visualization* that 'RM'  (i.e., the average number of rooms in the house) showed a linear relationship with our targets 'MEDV'. Checkout the plot produced below by the `plot_price_vs_rooms()` function to confirm this non-linear trend!"
   ]
  },
  {
   "cell_type": "markdown",
   "metadata": {},
   "source": [
    "## Additional Plots\n",
    "\n",
    "Below are two additional plots for plotting the 'MEDV' vs 'RM' and plotting the line of best fit!"
   ]
  },
  {
   "cell_type": "code",
   "execution_count": 26,
   "metadata": {},
   "outputs": [
    {
     "data": {
      "image/png": "[encoded data removed]",
      "text/plain": [
       "<Figure size 432x288 with 1 Axes>"
      ]
     },
     "metadata": {
      "needs_background": "light"
     },
     "output_type": "display_data"
    }
   ],
   "source": [
    "def plot_price_vs_rooms(X,y):\n",
    "    fig = plt.figure()\n",
    "    plt.scatter(X, y, marker='x', color='g')\n",
    "    plt.xlabel(\"Number of rooms\")\n",
    "    plt.ylabel(\"House price (in $1000's)\")\n",
    "    plt.title(\"House Price (MEDV) vs Number of Rooms (RM)\")\n",
    "\n",
    "plot_price_vs_rooms(df_trn['RM'], df_trn['MEDV'])"
   ]
  },
  {
   "cell_type": "code",
   "execution_count": 27,
   "metadata": {},
   "outputs": [],
   "source": [
    "def plot_best_fit_line(X, y, preds):\n",
    "    plot_price_vs_rooms(X, y)\n",
    "    plt.plot(X, preds, color='r', label='Line of best fit')\n",
    "    plt.legend()\n",
    "    plt.show()"
   ]
  },
  {
   "cell_type": "markdown",
   "metadata": {},
   "source": [
    "## Loading data\n",
    "\n",
    "Let's load only the 'RM' feature and our labels 'MEDV' while applying our data cleaning using the `get_cleaned_data()` function"
   ]
  },
  {
   "cell_type": "code",
   "execution_count": 28,
   "metadata": {},
   "outputs": [
    {
     "name": "stdout",
     "output_type": "stream",
     "text": [
      "X_trn shape: (323, 1)\n",
      "X_trn type: <class 'numpy.ndarray'>\n",
      "y_trn shape: (323, 1)\n",
      "y_trn type: <class 'numpy.ndarray'>\n",
      "X_vld shape: (81, 1)\n",
      "X_vld type: <class 'numpy.ndarray'>\n",
      "y_vld shape: (81, 1)\n",
      "y_vld type: <class 'numpy.ndarray'>\n"
     ]
    }
   ],
   "source": [
    "feature_names = 'RM'\n",
    "label_name = 'MEDV'\n",
    "X_trn, y_trn, X_vld, y_vld = get_cleaned_data(df_trn, df_vld, feature_names, label_name)"
   ]
  },
  {
   "cell_type": "markdown",
   "metadata": {},
   "source": [
    "## Training"
   ]
  },
  {
   "cell_type": "markdown",
   "metadata": {},
   "source": [
    "#### Autolab TODO 1\n",
    "Fill in the code for the `train()` and `predict()` methods for `OrdinaryLeastSquares` class in the `itcs4156/assignments/regression/OrdinaryLeastSquares.py` file. \n",
    "\n",
    "1. Complete the `train()` method which should run the OLS equation and store the best fit weights into `self.w`. Be sure to add ones to the input data `X` using your own code or using the `self.add_ones()` method that is inherited from `LinearModel`.\n",
    "    1. Hint: See the `itcs4156/models/LinearModel.py` script to see what the `self.add_ones` method does\n",
    "\n",
    "1. Complete the `predict()` method which should make a prediction and return the output using your learned weights `self.w`. Be sure to add ones to the input data `X` using your own code or using the `self.add_ones()` method that is inherited from `LinearModel`."
   ]
  },
  {
   "cell_type": "markdown",
   "metadata": {},
   "source": [
    "In order to test your code try running the below cell to fit your training data!"
   ]
  },
  {
   "cell_type": "code",
   "execution_count": null,
   "metadata": {},
   "outputs": [],
   "source": [
    "from itcs4156.assignments.regression.OrdinaryLeastSquares import OrdinaryLeastSquares"
   ]
  },
  {
   "cell_type": "code",
   "execution_count": null,
   "metadata": {},
   "outputs": [],
   "source": [
    "ols = OrdinaryLeastSquares()\n",
    "\n",
    "ols.train(X_trn,y_trn)\n",
    "\n",
    "preds_trn = ols.predict(X_trn)\n",
    "\n",
    "trn_errs, trn_sse, trn_mse, trn_rmse = analyze(preds_trn, \n",
    "                                               y_trn,\n",
    "                                               title=\"Training Predictions\",\n",
    "                                               dataset=\"Training\",\n",
    "                                               ylabel=\"MEDV - House price (in $1000's)\")"
   ]
  },
  {
   "cell_type": "markdown",
   "metadata": {},
   "source": [
    "Don't forget you can view your learned weights. Take a second to observe the weights and recall what the first weight corresponds to (y-intercept) and what the second weight corresponds to (slope)."
   ]
  },
  {
   "cell_type": "code",
   "execution_count": null,
   "metadata": {},
   "outputs": [],
   "source": [
    "ols.w"
   ]
  },
  {
   "cell_type": "code",
   "execution_count": null,
   "metadata": {},
   "outputs": [],
   "source": [
    "plot_best_fit_line(df_trn['RM'], y_trn, preds_trn)"
   ]
  },
  {
   "cell_type": "markdown",
   "metadata": {},
   "source": [
    "## Evaluating "
   ]
  },
  {
   "cell_type": "markdown",
   "metadata": {},
   "source": [
    "#### TODO 2 \n",
    "Now, make predictions for the validation set. Visualize your results using at least 3 plots that visualize your predictions and targets.\n",
    "\n",
    "**To receive <u>full points</u> you must have the following:**\n",
    "1. Make predictions using your `X_vld` data. Store the output into `preds_vld` if you so choose.\n",
    "2. Create at least **3** plots visualizing your validation predictions and targets\n",
    "    1. Feel free to use the `analyze()` and `plot_best_fit_line()` functions which will provide you with three plots\n",
    "3. You must report the MSE and RMSE for your validation data (by report we mean you need to print them out somewhere below)\n",
    "    1. Feel free to use the `analyze()` function with provided which reports MSE and RMSE\n",
    "4. (2-3 sentences) Describe on average how much your predictions are off by (i.e., error). Recall we can use the RMSE to get our error in the original units of the target to make this observation. Our target is 'MEDV' which is average price given in 1000s of dollars. In your own opinion, if you were using this model to price a home you were looking to sell, do you think this error is an acceptable amount to be off by on average?"
   ]
  },
  {
   "cell_type": "code",
   "execution_count": null,
   "metadata": {},
   "outputs": [],
   "source": [
    "# TODO add analysis below (create more code cells if needed)\n",
    "preds_vld = ols.predict(X_vld)\n",
    "\n",
    "_, vld_sse, vld_mse, vld_rmse = analyze(preds_vld, y_vld,\n",
    "         title=\"Validation Predictions\",\n",
    "         dataset=\"Validation\")"
   ]
  },
  {
   "cell_type": "code",
   "execution_count": null,
   "metadata": {},
   "outputs": [],
   "source": [
    "plot_best_fit_line(df_vld['RM'], y_vld, preds_vld)"
   ]
  },
  {
   "cell_type": "markdown",
   "metadata": {},
   "source": [
    "    TODO 2 -  Add written response below\n",
    "    --------------------------------------"
   ]
  },
  {
   "cell_type": "markdown",
   "metadata": {},
   "source": [
    "# Linear Regression with Multiple Variables - Least Mean Squares\n",
    "\n",
    "In this 2nd task, you will be using **more than one feature** to predict the house prices. You could use 2, 4 or all the 13 features present in the dataset. \n",
    "\n",
    "You will have to analyze for yourself which features will work the best if you want to make it to the top of Autolab leaderboards! You can do so anywhere in the below section."
   ]
  },
  {
   "cell_type": "markdown",
   "metadata": {},
   "source": [
    "## Loading data"
   ]
  },
  {
   "cell_type": "markdown",
   "metadata": {},
   "source": [
    "By default we load all the the features for you. It is up to you to select the features you think are best on your own by changing the value of `feature_names`. Be sure that you DO NOT include the `MEDV` feature in your list of feature names. You might perform really well locally but you will fail the Autolab tests!"
   ]
  },
  {
   "cell_type": "code",
   "execution_count": null,
   "metadata": {},
   "outputs": [],
   "source": [
    "feature_names = df_trn.drop('MEDV', axis=1).columns\n",
    "label_name = 'MEDV'\n",
    "X_trn, y_trn, X_vld, y_vld = get_cleaned_data(df_trn, df_vld, feature_names, label_name)"
   ]
  },
  {
   "cell_type": "markdown",
   "metadata": {},
   "source": [
    "## Training"
   ]
  },
  {
   "cell_type": "markdown",
   "metadata": {},
   "source": [
    "#### Autolab TODO 2 \n",
    "\n",
    "Fill in the code for the `train()` and `predict()` methods for `LeastMeanSquares` class in the `itcs4156/assignments/regession/LeastMeanSquares.py` file. Read the documentation within the file to learn more about the class.\n",
    "\n",
    "1. Complete the `train()` method which learns some weights `self.w` using gradient descent algorithm. You can use either mini-batch or online gradient descent.  \n",
    "    1. Be sure to add ones to the input data `X` using your own code or using the `self.add_ones()` method that is inherited from `LinearModel`.\n",
    "    2. Be sure to initialize your weights randomly before starting!\n",
    "2. Complete the `predict()` method to make a prediction using the learned weights `self.w`.  Be sure to add ones to the input data `X` using your own code or using the `self.add_ones()` method that is inherited from `LinearModel`.\n",
    "\n",
    "Once done, complete the below TODO to test your code."
   ]
  },
  {
   "cell_type": "code",
   "execution_count": null,
   "metadata": {},
   "outputs": [],
   "source": [
    "from itcs4156.assignments.regression.LeastMeanSquares import LeastMeanSquares "
   ]
  },
  {
   "cell_type": "markdown",
   "metadata": {},
   "source": [
    "To test your code implementation, run the below code cell to train your data. In order to experiment with your least mean squares class, try setting/adjusting the `alpha` or learning rate hyperparamter."
   ]
  },
  {
   "cell_type": "code",
   "execution_count": null,
   "metadata": {},
   "outputs": [],
   "source": [
    "alpha = 0.1\n",
    "lms = LeastMeanSquares(alpha)\n",
    "\n",
    "lms.train(X_trn,y_trn)\n",
    "\n",
    "preds_trn = lms.predict(X_trn)\n",
    "\n",
    "trn_errs, trn_sse, trn_mse, trn_rmse = analyze(preds_trn, \n",
    "                                               y_trn,\n",
    "                                               title=\"Training Predictions\",\n",
    "                                               dataset=\"Training\",\n",
    "                                               ylabel=\"MEDV - House price (in $1000's)\")"
   ]
  },
  {
   "cell_type": "markdown",
   "metadata": {},
   "source": [
    "## Evaluating"
   ]
  },
  {
   "cell_type": "markdown",
   "metadata": {},
   "source": [
    "#### TODO 3 \n",
    "Now, make predictions for the validation set. Visualize your results using at least 2 plots that visualize your predictions and targets.\n",
    "\n",
    "**To receive <u>full points</u> you must have the following:**\n",
    "1. Make predictions using your `X_vld` data. Store the output into `preds_vld` if you so choose.\n",
    "2. At least **2** plots visualizing your validation predictions and targets\n",
    "    1. Feel free to use the `analyze()` function which provides two plots\n",
    "3. You must report the MSE and RMSE for your validation data (by report we mean you need to print them out anywhere below)\n",
    "    1. Feel free to use the `analyze()` function which also reports MSE and RMSE\n",
    "4. (2-3 sentences) Describe on average how much your predictions are off by (i.e., error). Recall we can use the RMSE to get our error in the original units of the target to make this observation. Our target is 'MEDV' which is average price given in 1000s of dollars. In your own opinion, if you were using this model to price a home you were looking to sell, do you think this error is an acceptable amount to be off by on average?"
   ]
  },
  {
   "cell_type": "code",
   "execution_count": null,
   "metadata": {},
   "outputs": [],
   "source": [
    "# TODO add analysis below (create more code cells if needed)\n",
    "preds_vlds = lms.predict(X_vld)\n",
    "\n",
    "_, vld_sse, vld_mse, vld_rmse = analyze(preds_vld, y_vld,\n",
    "         title=\"Validation Predictions\",\n",
    "         dataset=\"Validation\")"
   ]
  },
  {
   "cell_type": "markdown",
   "metadata": {},
   "source": [
    "    TODO 3 -  Add written response below\n",
    "    --------------------------------------\n"
   ]
  },
  {
   "cell_type": "markdown",
   "metadata": {},
   "source": [
    "# Polynomial Regression with One Variable  - Ordinary Least Squares\n",
    "\n",
    "In this 3rd task, the goal is to fit a polynomial model for predicting house price just using the 'LSTAT' feature.\n",
    "\n",
    "You might have notice in our visualizations in the *Exploration and Visualization* that 'LSTAT' (i.e., percent of lower status people out of the population) showed a non-linear relationship (with our targets 'MEDV'. Checkout the plot produced below by the `plot_price_vs_LSTAT()` function to confirm this non-linear trend!"
   ]
  },
  {
   "cell_type": "markdown",
   "metadata": {},
   "source": [
    "## Additional plots"
   ]
  },
  {
   "cell_type": "code",
   "execution_count": null,
   "metadata": {},
   "outputs": [],
   "source": [
    "def plot_price_vs_LSTAT(X,Y):\n",
    "    fig = plt.figure()\n",
    "    plt.scatter(X, Y, marker='.', color='orange')\n",
    "    plt.xlabel(\"LSTAT (% Lower Status of Population)\")\n",
    "    plt.ylabel(\"House price (in $1000's)\")\n",
    "    plt.title(\"House Price (MEDV) vs % Lower Status (LSTAT)\")\n",
    "\n",
    "plot_price_vs_LSTAT(df_trn['LSTAT'], df_trn['MEDV'])"
   ]
  },
  {
   "cell_type": "code",
   "execution_count": null,
   "metadata": {},
   "outputs": [],
   "source": [
    "def plot_best_poly_fit_line(pr_ols, X, y):\n",
    "    plot_price_vs_LSTAT(X, y)\n",
    "\n",
    "    # plot the best line of fit by making predictions for all possible LSTAT values\n",
    "    line_X = np.linspace(np.min(X_trn), np.max(X_trn), len(X_trn)).reshape(-1,1)\n",
    "    line_X_preds = pr_ols.predict(line_X)\n",
    "    plt.plot(line_X, line_X_preds, color='r', label='Line of best fit')\n",
    "    \n",
    "    plt.legend()\n",
    "    plt.show()"
   ]
  },
  {
   "cell_type": "markdown",
   "metadata": {},
   "source": [
    "## Loading data\n",
    "\n",
    "Let's load only the 'LSTAT' feature and our labels 'MEDV' while applying our data cleaning using the `get_cleaned_data()` function"
   ]
  },
  {
   "cell_type": "code",
   "execution_count": null,
   "metadata": {},
   "outputs": [],
   "source": [
    "feature_names = 'LSTAT'\n",
    "label_name = 'MEDV'\n",
    "X_trn, y_trn, X_vld, y_vld = get_cleaned_data(df_trn, df_vld, feature_names, label_name)"
   ]
  },
  {
   "cell_type": "markdown",
   "metadata": {},
   "source": [
    "## Training"
   ]
  },
  {
   "cell_type": "markdown",
   "metadata": {},
   "source": [
    "#### Autolab TODO 3 \n",
    "\n",
    "Fill in the code for the `add_polynomial_features()`, `train()` and `predict()` methods in the `PolynomialRegression` class located in the `itcs4156/assignments/regession/PolynomialRegression.py` file. Read the documentation within the file to learn more about the class.\n",
    "\n",
    "1. Complete the `add_polynomial_features()` method which computes the polynomial features for the passed data. It should return your data with the new polynomial features. \n",
    "    1. Hint:  Feel free to use `sklearn.preprocessing.PolynomialFeatures` but remember it includes the bias so make sure to disable said feature! **It will also include combination of features not just the polynomial features which is fine as well!**\n",
    "2. Complete the `train()` method which learns some weights `self.w` using the OLS equation and your polynomial data `X_poly`.  \n",
    "    1. Hint: Since we inherit from `OrdinaryLeastSquares` you can simply just call `super().train(X, y)` instead of copying the code from `OrdinaryLeastSquares` after you run `self.add_polynomial_features(X)`. Further, there is no need to add bias if you add the bias in the `super().train(X, y)` method. \n",
    "3. Complete the `predict()` method to make a prediction using the learned weights `self.w` and the polynomial features `X_poly`. \n",
    "    1. Hint: Since we inherit from `OrdinaryLeastSquares` you can simply just call `super().train(X, y)` instead of copying the code from `OrdinaryLeastSquares` after you run `self.add_polynomial_features(X)`. Further, there is no need to add bias if you add the bias in the `super().train(X, y)` method. "
   ]
  },
  {
   "cell_type": "code",
   "execution_count": null,
   "metadata": {},
   "outputs": [],
   "source": [
    "from itcs4156.assignments.regression.PolynomialRegression import PolynomialRegression"
   ]
  },
  {
   "cell_type": "markdown",
   "metadata": {},
   "source": [
    "To test your code implementation, run the below code cell to train your data. In order to experiment with your polynomial regression class, try setting/adjusting the `degree` hyperparamter."
   ]
  },
  {
   "cell_type": "code",
   "execution_count": null,
   "metadata": {
    "scrolled": true
   },
   "outputs": [],
   "source": [
    "degree = 3\n",
    "pr_ols = PolynomialRegression(degree)\n",
    "\n",
    "pr_ols.train(X_trn, y_trn)\n",
    "\n",
    "preds_trn = pr_ols.predict(X_trn)\n",
    "\n",
    "trn_errs, trn_sse, trn_mse, trn_rmse = analyze(preds_trn, \n",
    "                                               y_trn,\n",
    "                                               title=\"Training Predictions\",\n",
    "                                               dataset=\"Training\",\n",
    "                                               ylabel=\"MEDV - House price (in $1000's)\")"
   ]
  },
  {
   "cell_type": "code",
   "execution_count": null,
   "metadata": {},
   "outputs": [],
   "source": [
    "plot_best_poly_fit_line(pr_ols, X_trn, y_trn)"
   ]
  },
  {
   "cell_type": "markdown",
   "metadata": {},
   "source": [
    "## Evaluating"
   ]
  },
  {
   "cell_type": "markdown",
   "metadata": {},
   "source": [
    "#### TODO 4 \n",
    "Now, make predictions for the validation set. Visualize your results using at least 3 plots that visualize your predictions and targets.\n",
    "\n",
    "**To receive <u>full points</u> you must have the following:**\n",
    "1. Make predictions using your `X_vld` data. Store the output into `preds_vld` if you so choose.\n",
    "2. At least **3** plots visualizing your validation predictions and targets\n",
    "    1. Feel free to use the `analyze()` and `plot_best_poly_fit_line()` functions which will provide you with three plots\n",
    "3. You must report the MSE and RMSE for your validation data (by report we mean you need to print them out anywhere below)\n",
    "    1. Feel free to use the `analyze()` function with provided which reports MSE and RMSE\n",
    "4. (2-3 sentences) Describe on average how much your predictions are off by (i.e., error). Recall we can use the RMSE to get our error in the original units of the target to make this observation. Our target is 'MEDV' which is average price given in 1000s of dollars. In your own opinion, if you were using this model to price a home you were looking to sell, do you think this error is an acceptable amount to be off by on average?"
   ]
  },
  {
   "cell_type": "code",
   "execution_count": null,
   "metadata": {},
   "outputs": [],
   "source": [
    "preds_vlds = pr_ols.predict(X_vld)\n",
    "\n",
    "_, vld_sse, vld_mse, vld_rmse = analyze(preds_vld, y_vld,\n",
    "         title=\"Validation Predictions\",\n",
    "         dataset=\"Validation\")"
   ]
  },
  {
   "cell_type": "code",
   "execution_count": null,
   "metadata": {
    "scrolled": true
   },
   "outputs": [],
   "source": [
    "plot_best_poly_fit_line(pr_ols, X_vld, y_vld)"
   ]
  },
  {
   "cell_type": "markdown",
   "metadata": {},
   "source": [
    "    TODO 4 -  Add written response below\n",
    "    --------------------------------------\n",
    "    "
   ]
  },
  {
   "cell_type": "markdown",
   "metadata": {},
   "source": [
    "# Polynomial Regression with Multiple Variables - Regularized Ordinary Least Squares\n",
    "\n",
    "In the 4th task and final task, you will fit a regularized polynomial model using **multiple features** to predict the house prices just like you did in task 2. Additionally, you will make use of L2  regularization.\n",
    "\n",
    "You will have to analyze for yourself which features will work the best if you want to make it to the top of Autolab leaderboards! You can do so anywhere in the below section."
   ]
  },
  {
   "cell_type": "markdown",
   "metadata": {},
   "source": [
    "## Data Loading\n",
    "\n",
    "By default we load all the the features for you. It is up to you to select the features you think are best on your own by changing the value of `feature_names`. Be sure that you DO NOT include the `MEDV` feature in your list of feature names. You might perform really well locally but you will fail the Autolab tests!"
   ]
  },
  {
   "cell_type": "code",
   "execution_count": null,
   "metadata": {},
   "outputs": [],
   "source": [
    "feature_names = df_trn.drop('MEDV', axis=1).columns\n",
    "label_name = 'MEDV'\n",
    "X_trn, y_trn, X_vld, y_vld = get_cleaned_data(df_trn, df_vld, feature_names, label_name)"
   ]
  },
  {
   "cell_type": "markdown",
   "metadata": {},
   "source": [
    "## Training"
   ]
  },
  {
   "cell_type": "markdown",
   "metadata": {},
   "source": [
    "#### Autolab TODO 4 \n",
    "Fill in the code for the `train()` method in the `PolynomialRegressionRegularized` class located in the `itcs4156/assignments/regession/PolynomialRegressionRegularized.py` file. Read the documentation within the file to learn more about the class. Take note that this class inherits from `PolynomialRegression`, so we have access to all the methods we defined in `PolynomialRegression` including `add_polynomial_features()` and `predict()`.\n",
    "\n",
    "1. Complete `train()` method which learns some weights `self.w` using the **L2 regularized** OLS equation (ridge regression) and your polynomial data `X_poly`. \n",
    "    1. Be sure to add the bias **AFTER** computing the polynomial features. Typically we don't want to include the bias when computing polynomial features.\n",
    "    2. You'll have to additionally create an identity matrix where the first element (the bias) is equal to 0!\n"
   ]
  },
  {
   "cell_type": "code",
   "execution_count": null,
   "metadata": {},
   "outputs": [],
   "source": [
    "from itcs4156.assignments.regression.PolynomialRegressionRegularized import PolynomialRegressionRegularized"
   ]
  },
  {
   "cell_type": "markdown",
   "metadata": {},
   "source": [
    "To test your code implementation, run the below code cell to train your data. In order to experiment which ridge regression try setting/adjusting the `degree` and `lamb` hyperparamters."
   ]
  },
  {
   "cell_type": "code",
   "execution_count": null,
   "metadata": {
    "scrolled": false
   },
   "outputs": [],
   "source": [
    "degree = 2\n",
    "lamb = 1\n",
    "pr_rols = PolynomialRegressionRegularized(degree, lamb)\n",
    "\n",
    "pr_rols.train(X_trn, y_trn)\n",
    "\n",
    "preds_trn = pr_rols.predict(X_trn)\n",
    "\n",
    "trn_errs, trn_sse, trn_mse, trn_rmse = analyze(preds_trn, \n",
    "                                               y_trn,\n",
    "                                               title=\"Training Predictions\",\n",
    "                                               dataset=\"Training\",\n",
    "                                               ylabel=\"MEDV - House price (in $1000's)\")"
   ]
  },
  {
   "cell_type": "markdown",
   "metadata": {},
   "source": [
    "## Evaluating "
   ]
  },
  {
   "cell_type": "markdown",
   "metadata": {},
   "source": [
    "#### TODO 5\n",
    "Now, make predictions for the validation set. Visualize your results using at least 2 plots that visualize your predictions and targets.\n",
    "\n",
    "**To receive <u>full points</u> you must have the following:**\n",
    "1. Make predictions using your `X_vld` data. Store the output into `X_vlds` if you so choose.\n",
    "2. At least **2** plots visualizing your validation predictions and targets\n",
    "    1. Feel free to use the `analyze()` function which provides two plots\n",
    "3. You must report the MSE and RMSE for your validation data (by report we mean you need to print them out anywhere below)\n",
    "    1. Feel free to use the `analyze()` function which also reports MSE and RMSE\n",
    "4. ((2-3 sentences) Describe on average how much your predictions are off by (i.e., error). Recall we can use the RMSE to get our error in the original units of the target to make this observation. Our target is 'MEDV' which is average price given in 1000s of dollars. In your own opinion, if you were using this model to price a home you were looking to sell, do you think this error is an acceptable amount to be off by on average?"
   ]
  },
  {
   "cell_type": "code",
   "execution_count": null,
   "metadata": {},
   "outputs": [],
   "source": [
    "# TODO add analysis below (create more code cells if needed)"
   ]
  },
  {
   "cell_type": "markdown",
   "metadata": {},
   "source": [
    "    TODO 5 -  Add written response below\n",
    "    --------------------------------------"
   ]
  },
  {
   "cell_type": "markdown",
   "metadata": {},
   "source": [
    "# Evaluation Script\n",
    "\n",
    "Once you have finished all the above four **TODOs** and you are satisfied with the  results you are getting, it is time evaluate all your code together and make it ready for submission.\n",
    "\n",
    "####  Autolab TODO 5\n",
    "\n",
    "Open the `train.py` file in the `itcs4156/assignments/regression` directory and set the appropriate parameters (features, alpha, degree, lamb, ect) for each algorithm in the given classes. Further, in the `get_features_for_lsm()` function return the features you want to use for training your LMS algorithm with multiple features (task 2). Likewise, in the \n",
    "`get_features_for_poly_reg()` function return the features you want to use for training your regularized polynomial regression using OLS with multiple features (task 4).\n",
    "\n",
    "These parameters will be used in by `evaulate.py` script which will locally test your code. Further, these parameters will be used by Autolab to evaluate your algorithm performance when using an unseen test set. **MAKE SURE THEY ARE SET BEFORE RUNNING `run_eval()` LOCALLY AND BEFORE SUBMITTING TO AUTOLAB!** "
   ]
  },
  {
   "cell_type": "markdown",
   "metadata": {},
   "source": [
    "## Final Testing\n",
    "\n",
    "Next, we will evaluate all your models on the validation split. The test case will pass if your validation mse is less than the alloted threshold (see rubric at the start of the notebook). **This only indicates that your model is likely to satisfy the minimum requirement for receiving full points.** Recall, full points will only be given for each test you pass when using the **TEST** set on Autolab. \n",
    "\n",
    "### Average Score\n",
    "It also gives you an estimated average score. Your **Average Test** score will determine your leaderboard position when computed by Autolab. You can use the **Average Validation** score to estimate your test score. \n",
    "\n",
    "    MSE averages for 4 successful tests\n",
    "        Average Training MSE: 28.861541229615845\n",
    "        Average Validation MSE: 28.29102095027283\n",
    "\n",
    "\n",
    "### Errors\n",
    "\n",
    "If a given test fails when running `run_eval()` due to a thrown error the error will be printed for the corresponding algorithm/class. You can view any errors both locally, when using the below test, and on Autolab by clicking on the submission and viewing the log. \n",
    "\n",
    "### Autolab Time Limit\n",
    "For this assignment when you submit to Autolab you will only have **180 seconds for <u>ALL</u> your algorithms to be trained and tested**. If you exceed this time then Autolab will kill your job. You can see the elapsed time in the bottom of the `run_eval()` output locally and in Autolab."
   ]
  },
  {
   "cell_type": "code",
   "execution_count": null,
   "metadata": {},
   "outputs": [],
   "source": [
    "from itcs4156.assignments.regression.evaluate import run_eval\n",
    "run_eval();"
   ]
  },
  {
   "cell_type": "code",
   "execution_count": null,
   "metadata": {},
   "outputs": [],
   "source": []
  },
  {
   "cell_type": "code",
   "execution_count": null,
   "metadata": {},
   "outputs": [],
   "source": []
  }
 ],
 "metadata": {
  "kernelspec": {
   "display_name": "Python 3 (ipykernel)",
   "language": "python",
   "name": "python3"
  },
  "language_info": {
   "codemirror_mode": {
    "name": "ipython",
    "version": 3
   },
   "file_extension": ".py",
   "mimetype": "text/x-python",
   "name": "python",
   "nbconvert_exporter": "python",
   "pygments_lexer": "ipython3",
   "version": "3.8.12"
  },
  "toc": {
   "base_numbering": 1,
   "nav_menu": {},
   "number_sections": true,
   "sideBar": true,
   "skip_h1_title": false,
   "title_cell": "Table of Contents",
   "title_sidebar": "Contents",
   "toc_cell": false,
   "toc_position": {
    "height": "calc(100% - 180px)",
    "left": "10px",
    "top": "150px",
    "width": "252px"
   },
   "toc_section_display": true,
   "toc_window_display": true
  },
  "toc-autonumbering": true,
  "toc-showcode": false,
  "toc-showmarkdowntxt": false,
  "toc-showtags": false
 },
 "nbformat": 4,
 "nbformat_minor": 4
}
